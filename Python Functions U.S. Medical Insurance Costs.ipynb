{
 "cells": [
  {
   "cell_type": "markdown",
   "metadata": {},
   "source": [
    "# U.S. Medical Insurance Costs"
   ]
  },
  {
   "cell_type": "markdown",
   "metadata": {},
   "source": [
    "Import libraries"
   ]
  },
  {
   "cell_type": "code",
   "execution_count": 1,
   "metadata": {},
   "outputs": [],
   "source": [
    "import csv"
   ]
  },
  {
   "cell_type": "markdown",
   "metadata": {},
   "source": [
    "Create a list with all the data"
   ]
  },
  {
   "cell_type": "code",
   "execution_count": 2,
   "metadata": {},
   "outputs": [],
   "source": [
    "records = []\n",
    "with open ('insurance.csv', newline=\"\") as csvfile:\n",
    "    reader = csv.DictReader(csvfile)\n",
    "    variables = reader.fieldnames\n",
    "    for row in reader:\n",
    "        records.append(row)"
   ]
  },
  {
   "cell_type": "markdown",
   "metadata": {},
   "source": [
    "Function creation"
   ]
  },
  {
   "cell_type": "code",
   "execution_count": 3,
   "metadata": {},
   "outputs": [],
   "source": [
    "# Average\n",
    "def average_charge(data):\n",
    "    average = sum(data) / len(data)\n",
    "    return average\n",
    "\n",
    "# Categories creation\n",
    "def unique_list_data(data, variable):\n",
    "    values = []\n",
    "    for record in data:\n",
    "        values.append(record[variable])\n",
    "    unique_values = list(set(values))\n",
    "    unique_values.sort()\n",
    "    return unique_values\n",
    "\n",
    "# Charges calculation by variable\n",
    "def variable_charges(data, variable):\n",
    "    if variable == 'age': # Create categories and list for every category\n",
    "        categories = ['<20', '20-29', '30-39', '40-49', '50-59', '>60']\n",
    "        age_below20 = []\n",
    "        age_between2029 = []\n",
    "        age_between3039 = []\n",
    "        age_between4049 = []\n",
    "        age_between5059 = []\n",
    "        age_above60 = []\n",
    "        for record in data:\n",
    "            if float(record[variable]) < 20:\n",
    "                age_below20.append(float(record['charges']))\n",
    "            elif float(record[variable]) <= 29:\n",
    "                age_between2029.append(float(record['charges']))\n",
    "            elif float(record[variable]) <= 39:\n",
    "                age_between3039.append(float(record['charges']))\n",
    "            elif float(record[variable]) <= 49:\n",
    "                age_between4049.append(float(record['charges']))\n",
    "            elif float(record[variable]) <= 59:\n",
    "                age_between5059.append(float(record['charges']))\n",
    "            else:\n",
    "                age_above60.append(float(record['charges']))\n",
    "        variable_record = {\n",
    "            categories[0]:[\n",
    "                round(max(age_below20),2),\n",
    "                round(min(age_below20),2),\n",
    "                round(average_charge(age_below20),2)\n",
    "            ],\n",
    "            categories[1]:[\n",
    "                round(max(age_between2029),2),\n",
    "                round(min(age_between2029),2),\n",
    "                round(average_charge(age_between2029),2)\n",
    "            ],\n",
    "            categories[2]:[\n",
    "                round(max(age_between3039),2),\n",
    "                round(min(age_between3039),2),\n",
    "                round(average_charge(age_between3039),2)\n",
    "            ],\n",
    "            categories[3]:[\n",
    "                round(max(age_between4049),2),\n",
    "                round(min(age_between4049),2),\n",
    "                round(average_charge(age_between4049),2)\n",
    "            ],\n",
    "            categories[4]:[\n",
    "                round(max(age_between5059),2),\n",
    "                round(min(age_between5059),2),\n",
    "                round(average_charge(age_between5059),2)\n",
    "            ],\n",
    "            categories[5]:[\n",
    "                round(max(age_above60),2),\n",
    "                round(min(age_above60),2),\n",
    "                round(average_charge(age_above60),2)\n",
    "            ]\n",
    "        }\n",
    "            \n",
    "    elif variable == 'bmi': # Same as age\n",
    "        categories = ['underweight', 'healthy', 'overweight', 'obese']\n",
    "        underweight =[]\n",
    "        healthy = []\n",
    "        overweight = []\n",
    "        obese = []\n",
    "        for record in data:\n",
    "            if float(record[variable]) < 18.5:\n",
    "                underweight.append(float(record['charges']))\n",
    "            elif float(record[variable]) < 25:\n",
    "                healthy.append(float(record['charges']))\n",
    "            elif float(record[variable]) < 30:\n",
    "                overweight.append(float(record['charges']))\n",
    "            else:\n",
    "                obese.append(float(record['charges']))\n",
    "        variable_record = {\n",
    "            categories[0]:[\n",
    "                round(max(underweight),2),\n",
    "                round(min(underweight),2),\n",
    "                round(average_charge(underweight),2)\n",
    "            ],\n",
    "            categories[1]:[\n",
    "                round(max(healthy),2),\n",
    "                round(min(healthy),2),\n",
    "                round(average_charge(healthy),2)\n",
    "            ],\n",
    "            categories[2]:[\n",
    "                round(max(overweight),2),\n",
    "                round(min(overweight),2),\n",
    "                round(average_charge(overweight),2)\n",
    "            ],\n",
    "            categories[3]:[\n",
    "                round(max(obese),2),\n",
    "                round(min(obese),2),\n",
    "                round(average_charge(obese),2)\n",
    "            ]\n",
    "        }\n",
    "    else: # The rest categories are strings and don't need to be agreggated\n",
    "        categories = unique_list_data(data,variable)\n",
    "        variable_record = {}\n",
    "        for category in categories:\n",
    "            category_charge = []\n",
    "            for record in data:\n",
    "                if category == record[variable]:\n",
    "                    category_charge.append(float(record['charges']))\n",
    "            category_max = max(category_charge)\n",
    "            category_min = min(category_charge)\n",
    "            category_average = average_charge(category_charge)\n",
    "            variable_record[category] = [round(category_max, 2), round(category_min,2), round(category_average,2)]\n",
    "    return variable_record"
   ]
  },
  {
   "cell_type": "markdown",
   "metadata": {},
   "source": [
    "All data overview"
   ]
  },
  {
   "cell_type": "code",
   "execution_count": 4,
   "metadata": {},
   "outputs": [
    {
     "name": "stdout",
     "output_type": "stream",
     "text": [
      "The average charge is 13270.42 with a maximum of 63770.43 and a minimum of 1121.87.\n"
     ]
    }
   ],
   "source": [
    "# All charges\n",
    "total_charges = []\n",
    "for record in records:\n",
    "    total_charges.append(float(record['charges']))\n",
    "    \n",
    "max_total = round(max(total_charges),2)\n",
    "min_total = round(min(total_charges),2)\n",
    "average_total = round(average_charge(total_charges),2)\n",
    "print(f\"The average charge is {average_total} with a maximum of {max_total} and a minimum of {min_total}.\")"
   ]
  },
  {
   "cell_type": "markdown",
   "metadata": {},
   "source": [
    "Data Analysis by variable"
   ]
  },
  {
   "cell_type": "code",
   "execution_count": 5,
   "metadata": {
    "scrolled": false
   },
   "outputs": [
    {
     "name": "stdout",
     "output_type": "stream",
     "text": [
      "The results for the age variable are:\n",
      "For the group \"<20\", the average is 8407.35 and the range is 38600.88\n",
      "For the group \"20-29\", the average is 9561.75 and the range is 49803.03\n",
      "For the group \"30-39\", the average is 11738.78 and the range is 55310.87\n",
      "For the group \"40-49\", the average is 14399.2 and the range is 57177.21\n",
      "For the group \"50-59\", the average is 16495.23 and the range is 55327.76\n",
      "For the group \">60\", the average is 21248.02 and the range is 40448.25\n",
      "The results for the sex variable are:\n",
      "For the group \"female\", the average is 12569.58 and the range is 62162.92\n",
      "For the group \"male\", the average is 13956.75 and the range is 61471.0\n",
      "The results for the bmi variable are:\n",
      "For the group \"underweight\", the average is 8852.2 and the range is 31112.85\n",
      "For the group \"healthy\", the average is 10409.34 and the range is 33947.5\n",
      "For the group \"overweight\", the average is 10987.51 and the range is 36993.18\n",
      "For the group \"obese\", the average is 15552.34 and the range is 62638.92\n",
      "The results for the children variable are:\n",
      "For the group \"0\", the average is 12365.98 and the range is 62648.56\n",
      "For the group \"1\", the average is 12731.17 and the range is 56860.04\n",
      "For the group \"2\", the average is 15073.56 and the range is 47273.66\n",
      "For the group \"3\", the average is 15355.32 and the range is 56578.34\n",
      "For the group \"4\", the average is 13850.66 and the range is 35677.59\n",
      "For the group \"5\", the average is 8786.04 and the range is 14335.46\n",
      "The results for the smoker variable are:\n",
      "For the group \"no\", the average is 8434.27 and the range is 35788.74\n",
      "For the group \"yes\", the average is 32050.23 and the range is 50940.97\n",
      "The results for the region variable are:\n",
      "For the group \"northeast\", the average is 13406.38 and the range is 56876.27\n",
      "For the group \"northwest\", the average is 12417.58 and the range is 58400.06\n",
      "For the group \"southeast\", the average is 14735.41 and the range is 62648.56\n",
      "For the group \"southwest\", the average is 12346.94 and the range is 51349.26\n"
     ]
    }
   ],
   "source": [
    "data_summarized_by_variable = {}\n",
    "for variable in variables:\n",
    "    if variable == 'charges':\n",
    "        continue\n",
    "    else:\n",
    "        data_summarized_by_variable[variable]=variable_charges(records, variable)\n",
    "        print(f'The results for the {variable} variable are:')\n",
    "        for key,value in data_summarized_by_variable[variable].items():\n",
    "            maxmin_range = round(value[0] - value[1],2)\n",
    "            print(f'For the group \"{key}\", the average is {value[-1]} and the range is {maxmin_range}')\n",
    "\n"
   ]
  },
  {
   "cell_type": "markdown",
   "metadata": {},
   "source": [
    "## Result discussion\n",
    "The average charge increases with age and bmi.\n",
    "The average charge is similar for sex or region.\n",
    "The average charge is higher for smokers.\n",
    "The number of children increases the charge up to 3 children and then tend to lower."
   ]
  }
 ],
 "metadata": {
  "kernelspec": {
   "display_name": "Python 3",
   "language": "python",
   "name": "python3"
  },
  "language_info": {
   "codemirror_mode": {
    "name": "ipython",
    "version": 3
   },
   "file_extension": ".py",
   "mimetype": "text/x-python",
   "name": "python",
   "nbconvert_exporter": "python",
   "pygments_lexer": "ipython3",
   "version": "3.8.3"
  }
 },
 "nbformat": 4,
 "nbformat_minor": 4
}
